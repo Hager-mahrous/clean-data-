{
 "cells": [
  {
   "cell_type": "markdown",
   "metadata": {},
   "source": [
    "# challenge one"
   ]
  },
  {
   "cell_type": "code",
   "execution_count": 1,
   "metadata": {},
   "outputs": [],
   "source": [
    "import pandas as pd \n",
    "from operator import attrgetter"
   ]
  },
  {
   "cell_type": "code",
   "execution_count": 2,
   "metadata": {},
   "outputs": [],
   "source": [
    "data = pd.read_excel('f:/sql interveiw/Halloween Costumes.xlsx')"
   ]
  },
  {
   "cell_type": "code",
   "execution_count": 3,
   "metadata": {},
   "outputs": [],
   "source": [
    "df = data.copy(deep=True)"
   ]
  },
  {
   "cell_type": "code",
   "execution_count": 4,
   "metadata": {},
   "outputs": [
    {
     "data": {
      "text/html": [
       "<div>\n",
       "<style scoped>\n",
       "    .dataframe tbody tr th:only-of-type {\n",
       "        vertical-align: middle;\n",
       "    }\n",
       "\n",
       "    .dataframe tbody tr th {\n",
       "        vertical-align: top;\n",
       "    }\n",
       "\n",
       "    .dataframe thead th {\n",
       "        text-align: right;\n",
       "    }\n",
       "</style>\n",
       "<table border=\"1\" class=\"dataframe\">\n",
       "  <thead>\n",
       "    <tr style=\"text-align: right;\">\n",
       "      <th></th>\n",
       "      <th>Costume</th>\n",
       "      <th>Country</th>\n",
       "      <th>Date</th>\n",
       "      <th>Sales at Full Price</th>\n",
       "      <th>Sales at Half Price</th>\n",
       "      <th>Sales at Quarter Price</th>\n",
       "    </tr>\n",
       "  </thead>\n",
       "  <tbody>\n",
       "    <tr>\n",
       "      <th>0</th>\n",
       "      <td>Cat</td>\n",
       "      <td>Australia</td>\n",
       "      <td>01/10/2019</td>\n",
       "      <td>A$ 46660.55</td>\n",
       "      <td>NaN</td>\n",
       "      <td>NaN</td>\n",
       "    </tr>\n",
       "    <tr>\n",
       "      <th>1</th>\n",
       "      <td>Cat</td>\n",
       "      <td>Australia</td>\n",
       "      <td>01/10/2020</td>\n",
       "      <td>A$ 47476.21</td>\n",
       "      <td>NaN</td>\n",
       "      <td>NaN</td>\n",
       "    </tr>\n",
       "    <tr>\n",
       "      <th>2</th>\n",
       "      <td>Cat</td>\n",
       "      <td>Australia</td>\n",
       "      <td>01/11/2018</td>\n",
       "      <td>NaN</td>\n",
       "      <td>A$ 2076.00</td>\n",
       "      <td>NaN</td>\n",
       "    </tr>\n",
       "    <tr>\n",
       "      <th>3</th>\n",
       "      <td>Cat</td>\n",
       "      <td>Australia</td>\n",
       "      <td>01/11/2019</td>\n",
       "      <td>NaN</td>\n",
       "      <td>A$ 5964.00</td>\n",
       "      <td>NaN</td>\n",
       "    </tr>\n",
       "    <tr>\n",
       "      <th>4</th>\n",
       "      <td>Cat</td>\n",
       "      <td>Australia</td>\n",
       "      <td>02/10/2019</td>\n",
       "      <td>A$ 55920.69</td>\n",
       "      <td>NaN</td>\n",
       "      <td>NaN</td>\n",
       "    </tr>\n",
       "  </tbody>\n",
       "</table>\n",
       "</div>"
      ],
      "text/plain": [
       "  Costume    Country        Date Sales at Full Price Sales at Half Price  \\\n",
       "0     Cat  Australia  01/10/2019         A$ 46660.55                 NaN   \n",
       "1     Cat  Australia  01/10/2020         A$ 47476.21                 NaN   \n",
       "2     Cat  Australia  01/11/2018                 NaN          A$ 2076.00   \n",
       "3     Cat  Australia  01/11/2019                 NaN          A$ 5964.00   \n",
       "4     Cat  Australia  02/10/2019         A$ 55920.69                 NaN   \n",
       "\n",
       "  Sales at Quarter Price  \n",
       "0                    NaN  \n",
       "1                    NaN  \n",
       "2                    NaN  \n",
       "3                    NaN  \n",
       "4                    NaN  "
      ]
     },
     "execution_count": 4,
     "metadata": {},
     "output_type": "execute_result"
    }
   ],
   "source": [
    "df.head()"
   ]
  },
  {
   "cell_type": "code",
   "execution_count": 5,
   "metadata": {},
   "outputs": [],
   "source": [
    "df['Date'] = pd.to_datetime(df['Date'] , dayfirst=True)"
   ]
  },
  {
   "cell_type": "code",
   "execution_count": 6,
   "metadata": {},
   "outputs": [
    {
     "data": {
      "text/plain": [
       "array(['Cat', 'Chat', 'Clown', 'Devil', 'Diabel', 'Diable', 'Diabo',\n",
       "       'Diavol', 'Diavolo', 'Dinosaur', 'Dinosaure', 'Dinosaurier',\n",
       "       'Dinosauro', 'Dinosaurus', 'Dinozaur', 'Djevel', 'Gato', 'Geescht',\n",
       "       'Geest', 'Geist', 'Ghost', 'Kat', 'Katt', 'Katze', 'Klaun',\n",
       "       'Kloun', 'Klovn', 'Piraat', 'Pirat', 'Pirata', 'Pirate', 'Vampier',\n",
       "       'Vampiir', 'Vampir', 'Vampire', 'Vampiro', 'Vampyr', 'Weerwolf',\n",
       "       'Werewolf', 'Werwolf', 'Zambi', 'Zombi', 'Zombie', 'Zumbi'],\n",
       "      dtype=object)"
      ]
     },
     "execution_count": 6,
     "metadata": {},
     "output_type": "execute_result"
    }
   ],
   "source": [
    "df.Costume.unique()"
   ]
  },
  {
   "cell_type": "code",
   "execution_count": 7,
   "metadata": {},
   "outputs": [
    {
     "data": {
      "text/plain": [
       "Index(['Sales at Full Price', 'Sales at Half Price', 'Sales at Quarter Price'], dtype='object')"
      ]
     },
     "execution_count": 7,
     "metadata": {},
     "output_type": "execute_result"
    }
   ],
   "source": [
    "df.columns[3:]"
   ]
  },
  {
   "cell_type": "code",
   "execution_count": 8,
   "metadata": {},
   "outputs": [],
   "source": [
    "df.rename(columns={'Sales at Full Price':'Full Price','Sales at Half Price':'Half Price',\n",
    "           'Sales at Quarter Price':'Quarter Price'} , inplace=True)"
   ]
  },
  {
   "cell_type": "code",
   "execution_count": 9,
   "metadata": {},
   "outputs": [],
   "source": [
    "id = df.columns[:3]\n",
    "value = df.columns[3:]"
   ]
  },
  {
   "cell_type": "code",
   "execution_count": 10,
   "metadata": {},
   "outputs": [],
   "source": [
    "df2 = df.melt(id_vars=id,value_vars=value,var_name='price',value_name='sales')"
   ]
  },
  {
   "cell_type": "code",
   "execution_count": 11,
   "metadata": {},
   "outputs": [
    {
     "data": {
      "text/html": [
       "<div>\n",
       "<style scoped>\n",
       "    .dataframe tbody tr th:only-of-type {\n",
       "        vertical-align: middle;\n",
       "    }\n",
       "\n",
       "    .dataframe tbody tr th {\n",
       "        vertical-align: top;\n",
       "    }\n",
       "\n",
       "    .dataframe thead th {\n",
       "        text-align: right;\n",
       "    }\n",
       "</style>\n",
       "<table border=\"1\" class=\"dataframe\">\n",
       "  <thead>\n",
       "    <tr style=\"text-align: right;\">\n",
       "      <th></th>\n",
       "      <th>Costume</th>\n",
       "      <th>Country</th>\n",
       "      <th>Date</th>\n",
       "      <th>price</th>\n",
       "      <th>sales</th>\n",
       "    </tr>\n",
       "  </thead>\n",
       "  <tbody>\n",
       "    <tr>\n",
       "      <th>0</th>\n",
       "      <td>Cat</td>\n",
       "      <td>Australia</td>\n",
       "      <td>2019-10-01</td>\n",
       "      <td>Full Price</td>\n",
       "      <td>A$ 46660.55</td>\n",
       "    </tr>\n",
       "    <tr>\n",
       "      <th>1</th>\n",
       "      <td>Cat</td>\n",
       "      <td>Australia</td>\n",
       "      <td>2020-10-01</td>\n",
       "      <td>Full Price</td>\n",
       "      <td>A$ 47476.21</td>\n",
       "    </tr>\n",
       "    <tr>\n",
       "      <th>2</th>\n",
       "      <td>Cat</td>\n",
       "      <td>Australia</td>\n",
       "      <td>2018-11-01</td>\n",
       "      <td>Full Price</td>\n",
       "      <td>NaN</td>\n",
       "    </tr>\n",
       "    <tr>\n",
       "      <th>3</th>\n",
       "      <td>Cat</td>\n",
       "      <td>Australia</td>\n",
       "      <td>2019-11-01</td>\n",
       "      <td>Full Price</td>\n",
       "      <td>NaN</td>\n",
       "    </tr>\n",
       "    <tr>\n",
       "      <th>4</th>\n",
       "      <td>Cat</td>\n",
       "      <td>Australia</td>\n",
       "      <td>2019-10-02</td>\n",
       "      <td>Full Price</td>\n",
       "      <td>A$ 55920.69</td>\n",
       "    </tr>\n",
       "  </tbody>\n",
       "</table>\n",
       "</div>"
      ],
      "text/plain": [
       "  Costume    Country       Date       price        sales\n",
       "0     Cat  Australia 2019-10-01  Full Price  A$ 46660.55\n",
       "1     Cat  Australia 2020-10-01  Full Price  A$ 47476.21\n",
       "2     Cat  Australia 2018-11-01  Full Price          NaN\n",
       "3     Cat  Australia 2019-11-01  Full Price          NaN\n",
       "4     Cat  Australia 2019-10-02  Full Price  A$ 55920.69"
      ]
     },
     "execution_count": 11,
     "metadata": {},
     "output_type": "execute_result"
    }
   ],
   "source": [
    "df2.head()"
   ]
  },
  {
   "cell_type": "code",
   "execution_count": 12,
   "metadata": {},
   "outputs": [],
   "source": [
    "df2[['curruncy','sale']] = df2['sales'].str.split(pat=\" \",n=1,expand=True)\n"
   ]
  },
  {
   "cell_type": "code",
   "execution_count": 13,
   "metadata": {},
   "outputs": [
    {
     "data": {
      "text/html": [
       "<div>\n",
       "<style scoped>\n",
       "    .dataframe tbody tr th:only-of-type {\n",
       "        vertical-align: middle;\n",
       "    }\n",
       "\n",
       "    .dataframe tbody tr th {\n",
       "        vertical-align: top;\n",
       "    }\n",
       "\n",
       "    .dataframe thead th {\n",
       "        text-align: right;\n",
       "    }\n",
       "</style>\n",
       "<table border=\"1\" class=\"dataframe\">\n",
       "  <thead>\n",
       "    <tr style=\"text-align: right;\">\n",
       "      <th></th>\n",
       "      <th>Costume</th>\n",
       "      <th>Country</th>\n",
       "      <th>Date</th>\n",
       "      <th>price</th>\n",
       "      <th>sales</th>\n",
       "      <th>curruncy</th>\n",
       "      <th>sale</th>\n",
       "    </tr>\n",
       "  </thead>\n",
       "  <tbody>\n",
       "    <tr>\n",
       "      <th>0</th>\n",
       "      <td>Cat</td>\n",
       "      <td>Australia</td>\n",
       "      <td>2019-10-01</td>\n",
       "      <td>Full Price</td>\n",
       "      <td>A$ 46660.55</td>\n",
       "      <td>A$</td>\n",
       "      <td>46660.55</td>\n",
       "    </tr>\n",
       "    <tr>\n",
       "      <th>1</th>\n",
       "      <td>Cat</td>\n",
       "      <td>Australia</td>\n",
       "      <td>2020-10-01</td>\n",
       "      <td>Full Price</td>\n",
       "      <td>A$ 47476.21</td>\n",
       "      <td>A$</td>\n",
       "      <td>47476.21</td>\n",
       "    </tr>\n",
       "    <tr>\n",
       "      <th>2</th>\n",
       "      <td>Cat</td>\n",
       "      <td>Australia</td>\n",
       "      <td>2018-11-01</td>\n",
       "      <td>Full Price</td>\n",
       "      <td>NaN</td>\n",
       "      <td>NaN</td>\n",
       "      <td>NaN</td>\n",
       "    </tr>\n",
       "    <tr>\n",
       "      <th>3</th>\n",
       "      <td>Cat</td>\n",
       "      <td>Australia</td>\n",
       "      <td>2019-11-01</td>\n",
       "      <td>Full Price</td>\n",
       "      <td>NaN</td>\n",
       "      <td>NaN</td>\n",
       "      <td>NaN</td>\n",
       "    </tr>\n",
       "    <tr>\n",
       "      <th>4</th>\n",
       "      <td>Cat</td>\n",
       "      <td>Australia</td>\n",
       "      <td>2019-10-02</td>\n",
       "      <td>Full Price</td>\n",
       "      <td>A$ 55920.69</td>\n",
       "      <td>A$</td>\n",
       "      <td>55920.69</td>\n",
       "    </tr>\n",
       "  </tbody>\n",
       "</table>\n",
       "</div>"
      ],
      "text/plain": [
       "  Costume    Country       Date       price        sales curruncy      sale\n",
       "0     Cat  Australia 2019-10-01  Full Price  A$ 46660.55       A$  46660.55\n",
       "1     Cat  Australia 2020-10-01  Full Price  A$ 47476.21       A$  47476.21\n",
       "2     Cat  Australia 2018-11-01  Full Price          NaN      NaN       NaN\n",
       "3     Cat  Australia 2019-11-01  Full Price          NaN      NaN       NaN\n",
       "4     Cat  Australia 2019-10-02  Full Price  A$ 55920.69       A$  55920.69"
      ]
     },
     "execution_count": 13,
     "metadata": {},
     "output_type": "execute_result"
    }
   ],
   "source": [
    "df2.head()"
   ]
  },
  {
   "cell_type": "code",
   "execution_count": 14,
   "metadata": {},
   "outputs": [
    {
     "data": {
      "text/plain": [
       "10    13629\n",
       "11     9702\n",
       "Name: Date, dtype: int64"
      ]
     },
     "execution_count": 14,
     "metadata": {},
     "output_type": "execute_result"
    }
   ],
   "source": [
    "df2['Date'].dt.month.value_counts()"
   ]
  },
  {
   "cell_type": "code",
   "execution_count": 15,
   "metadata": {},
   "outputs": [],
   "source": [
    "df2['period'] = df2['Date'].dt.to_period('M')"
   ]
  },
  {
   "cell_type": "code",
   "execution_count": 16,
   "metadata": {},
   "outputs": [
    {
     "data": {
      "text/html": [
       "<div>\n",
       "<style scoped>\n",
       "    .dataframe tbody tr th:only-of-type {\n",
       "        vertical-align: middle;\n",
       "    }\n",
       "\n",
       "    .dataframe tbody tr th {\n",
       "        vertical-align: top;\n",
       "    }\n",
       "\n",
       "    .dataframe thead th {\n",
       "        text-align: right;\n",
       "    }\n",
       "</style>\n",
       "<table border=\"1\" class=\"dataframe\">\n",
       "  <thead>\n",
       "    <tr style=\"text-align: right;\">\n",
       "      <th></th>\n",
       "      <th>Costume</th>\n",
       "      <th>Country</th>\n",
       "      <th>Date</th>\n",
       "      <th>price</th>\n",
       "      <th>sales</th>\n",
       "      <th>curruncy</th>\n",
       "      <th>sale</th>\n",
       "      <th>period</th>\n",
       "    </tr>\n",
       "  </thead>\n",
       "  <tbody>\n",
       "    <tr>\n",
       "      <th>0</th>\n",
       "      <td>Cat</td>\n",
       "      <td>Australia</td>\n",
       "      <td>2019-10-01</td>\n",
       "      <td>Full Price</td>\n",
       "      <td>A$ 46660.55</td>\n",
       "      <td>A$</td>\n",
       "      <td>46660.55</td>\n",
       "      <td>2019-10</td>\n",
       "    </tr>\n",
       "    <tr>\n",
       "      <th>1</th>\n",
       "      <td>Cat</td>\n",
       "      <td>Australia</td>\n",
       "      <td>2020-10-01</td>\n",
       "      <td>Full Price</td>\n",
       "      <td>A$ 47476.21</td>\n",
       "      <td>A$</td>\n",
       "      <td>47476.21</td>\n",
       "      <td>2020-10</td>\n",
       "    </tr>\n",
       "    <tr>\n",
       "      <th>2</th>\n",
       "      <td>Cat</td>\n",
       "      <td>Australia</td>\n",
       "      <td>2018-11-01</td>\n",
       "      <td>Full Price</td>\n",
       "      <td>NaN</td>\n",
       "      <td>NaN</td>\n",
       "      <td>NaN</td>\n",
       "      <td>2018-11</td>\n",
       "    </tr>\n",
       "    <tr>\n",
       "      <th>3</th>\n",
       "      <td>Cat</td>\n",
       "      <td>Australia</td>\n",
       "      <td>2019-11-01</td>\n",
       "      <td>Full Price</td>\n",
       "      <td>NaN</td>\n",
       "      <td>NaN</td>\n",
       "      <td>NaN</td>\n",
       "      <td>2019-11</td>\n",
       "    </tr>\n",
       "    <tr>\n",
       "      <th>4</th>\n",
       "      <td>Cat</td>\n",
       "      <td>Australia</td>\n",
       "      <td>2019-10-02</td>\n",
       "      <td>Full Price</td>\n",
       "      <td>A$ 55920.69</td>\n",
       "      <td>A$</td>\n",
       "      <td>55920.69</td>\n",
       "      <td>2019-10</td>\n",
       "    </tr>\n",
       "  </tbody>\n",
       "</table>\n",
       "</div>"
      ],
      "text/plain": [
       "  Costume    Country       Date       price        sales curruncy      sale  \\\n",
       "0     Cat  Australia 2019-10-01  Full Price  A$ 46660.55       A$  46660.55   \n",
       "1     Cat  Australia 2020-10-01  Full Price  A$ 47476.21       A$  47476.21   \n",
       "2     Cat  Australia 2018-11-01  Full Price          NaN      NaN       NaN   \n",
       "3     Cat  Australia 2019-11-01  Full Price          NaN      NaN       NaN   \n",
       "4     Cat  Australia 2019-10-02  Full Price  A$ 55920.69       A$  55920.69   \n",
       "\n",
       "    period  \n",
       "0  2019-10  \n",
       "1  2020-10  \n",
       "2  2018-11  \n",
       "3  2019-11  \n",
       "4  2019-10  "
      ]
     },
     "execution_count": 16,
     "metadata": {},
     "output_type": "execute_result"
    }
   ],
   "source": [
    "df2.head()"
   ]
  },
  {
   "cell_type": "code",
   "execution_count": 17,
   "metadata": {},
   "outputs": [],
   "source": [
    "df2.drop(columns='Date' , inplace=True)"
   ]
  },
  {
   "cell_type": "code",
   "execution_count": 18,
   "metadata": {},
   "outputs": [
    {
     "data": {
      "text/html": [
       "<div>\n",
       "<style scoped>\n",
       "    .dataframe tbody tr th:only-of-type {\n",
       "        vertical-align: middle;\n",
       "    }\n",
       "\n",
       "    .dataframe tbody tr th {\n",
       "        vertical-align: top;\n",
       "    }\n",
       "\n",
       "    .dataframe thead th {\n",
       "        text-align: right;\n",
       "    }\n",
       "</style>\n",
       "<table border=\"1\" class=\"dataframe\">\n",
       "  <thead>\n",
       "    <tr style=\"text-align: right;\">\n",
       "      <th></th>\n",
       "      <th>Costume</th>\n",
       "      <th>Country</th>\n",
       "      <th>price</th>\n",
       "      <th>sales</th>\n",
       "      <th>curruncy</th>\n",
       "      <th>sale</th>\n",
       "      <th>period</th>\n",
       "    </tr>\n",
       "  </thead>\n",
       "  <tbody>\n",
       "    <tr>\n",
       "      <th>0</th>\n",
       "      <td>Cat</td>\n",
       "      <td>Australia</td>\n",
       "      <td>Full Price</td>\n",
       "      <td>A$ 46660.55</td>\n",
       "      <td>A$</td>\n",
       "      <td>46660.55</td>\n",
       "      <td>2019-10</td>\n",
       "    </tr>\n",
       "    <tr>\n",
       "      <th>1</th>\n",
       "      <td>Cat</td>\n",
       "      <td>Australia</td>\n",
       "      <td>Full Price</td>\n",
       "      <td>A$ 47476.21</td>\n",
       "      <td>A$</td>\n",
       "      <td>47476.21</td>\n",
       "      <td>2020-10</td>\n",
       "    </tr>\n",
       "    <tr>\n",
       "      <th>2</th>\n",
       "      <td>Cat</td>\n",
       "      <td>Australia</td>\n",
       "      <td>Full Price</td>\n",
       "      <td>NaN</td>\n",
       "      <td>NaN</td>\n",
       "      <td>NaN</td>\n",
       "      <td>2018-11</td>\n",
       "    </tr>\n",
       "    <tr>\n",
       "      <th>3</th>\n",
       "      <td>Cat</td>\n",
       "      <td>Australia</td>\n",
       "      <td>Full Price</td>\n",
       "      <td>NaN</td>\n",
       "      <td>NaN</td>\n",
       "      <td>NaN</td>\n",
       "      <td>2019-11</td>\n",
       "    </tr>\n",
       "    <tr>\n",
       "      <th>4</th>\n",
       "      <td>Cat</td>\n",
       "      <td>Australia</td>\n",
       "      <td>Full Price</td>\n",
       "      <td>A$ 55920.69</td>\n",
       "      <td>A$</td>\n",
       "      <td>55920.69</td>\n",
       "      <td>2019-10</td>\n",
       "    </tr>\n",
       "  </tbody>\n",
       "</table>\n",
       "</div>"
      ],
      "text/plain": [
       "  Costume    Country       price        sales curruncy      sale   period\n",
       "0     Cat  Australia  Full Price  A$ 46660.55       A$  46660.55  2019-10\n",
       "1     Cat  Australia  Full Price  A$ 47476.21       A$  47476.21  2020-10\n",
       "2     Cat  Australia  Full Price          NaN      NaN       NaN  2018-11\n",
       "3     Cat  Australia  Full Price          NaN      NaN       NaN  2019-11\n",
       "4     Cat  Australia  Full Price  A$ 55920.69       A$  55920.69  2019-10"
      ]
     },
     "execution_count": 18,
     "metadata": {},
     "output_type": "execute_result"
    }
   ],
   "source": [
    "df2.head()"
   ]
  },
  {
   "cell_type": "code",
   "execution_count": 19,
   "metadata": {},
   "outputs": [
    {
     "data": {
      "text/plain": [
       "PeriodIndex(['2019-10', '2020-10', '2018-11', '2019-11', '2018-10'], dtype='period[M]')"
      ]
     },
     "execution_count": 19,
     "metadata": {},
     "output_type": "execute_result"
    }
   ],
   "source": [
    "ind = df2['period'].value_counts().index\n",
    "ind"
   ]
  },
  {
   "cell_type": "code",
   "execution_count": 20,
   "metadata": {},
   "outputs": [
    {
     "data": {
      "text/plain": [
       "PeriodIndex(['2019-10', '2018-11', '2018-10'], dtype='period[M]')"
      ]
     },
     "execution_count": 20,
     "metadata": {},
     "output_type": "execute_result"
    }
   ],
   "source": [
    "pd.PeriodIndex(['2019-10','2018-11','2018-10'],dtype='period[M]')"
   ]
  },
  {
   "cell_type": "code",
   "execution_count": 21,
   "metadata": {},
   "outputs": [],
   "source": [
    "period_2019 = pd.PeriodIndex(['2019-10','2018-11','2018-10'],dtype='period[M]')\n",
    "period_2020 =pd.PeriodIndex(['2020-10' ,'2019-11'],dtype='period[M]')"
   ]
  },
  {
   "cell_type": "code",
   "execution_count": 22,
   "metadata": {},
   "outputs": [],
   "source": [
    "import numpy as np"
   ]
  },
  {
   "cell_type": "code",
   "execution_count": 23,
   "metadata": {},
   "outputs": [],
   "source": [
    "def split(c):\n",
    "    if c in  period_2019:\n",
    "        return 2019\n",
    "    if c in period_2020:\n",
    "        return 2020\n",
    "    else:\n",
    "        return np.nan\n",
    "        "
   ]
  },
  {
   "cell_type": "code",
   "execution_count": 24,
   "metadata": {},
   "outputs": [],
   "source": [
    "df2['year'] = df2['period'].apply(lambda x : split(x))"
   ]
  },
  {
   "cell_type": "code",
   "execution_count": 25,
   "metadata": {},
   "outputs": [
    {
     "data": {
      "text/plain": [
       "period[M]"
      ]
     },
     "execution_count": 25,
     "metadata": {},
     "output_type": "execute_result"
    }
   ],
   "source": [
    "df2.period.dtype"
   ]
  },
  {
   "cell_type": "code",
   "execution_count": null,
   "metadata": {},
   "outputs": [],
   "source": []
  },
  {
   "cell_type": "code",
   "execution_count": 26,
   "metadata": {},
   "outputs": [],
   "source": [
    "df2.index = [df2.index,df2.year]"
   ]
  },
  {
   "cell_type": "code",
   "execution_count": 27,
   "metadata": {},
   "outputs": [],
   "source": [
    "year_data = df2.sale.unstack()"
   ]
  },
  {
   "cell_type": "code",
   "execution_count": 28,
   "metadata": {},
   "outputs": [],
   "source": [
    "year_data.columns = ['2019','2020']"
   ]
  },
  {
   "cell_type": "code",
   "execution_count": 29,
   "metadata": {},
   "outputs": [
    {
     "data": {
      "text/plain": [
       "Index(['2019', '2020'], dtype='object')"
      ]
     },
     "execution_count": 29,
     "metadata": {},
     "output_type": "execute_result"
    }
   ],
   "source": [
    "year_data.columns"
   ]
  },
  {
   "cell_type": "code",
   "execution_count": 30,
   "metadata": {},
   "outputs": [
    {
     "data": {
      "text/plain": [
       "(23331, 2)"
      ]
     },
     "execution_count": 30,
     "metadata": {},
     "output_type": "execute_result"
    }
   ],
   "source": [
    "year_data.shape"
   ]
  },
  {
   "cell_type": "code",
   "execution_count": 31,
   "metadata": {},
   "outputs": [
    {
     "data": {
      "text/plain": [
       "MultiIndex([(    0, 2019),\n",
       "            (    1, 2020),\n",
       "            (    2, 2019),\n",
       "            (    3, 2020),\n",
       "            (    4, 2019),\n",
       "            (    5, 2020),\n",
       "            (    6, 2019),\n",
       "            (    7, 2020),\n",
       "            (    8, 2019),\n",
       "            (    9, 2020),\n",
       "            ...\n",
       "            (23321, 2020),\n",
       "            (23322, 2019),\n",
       "            (23323, 2020),\n",
       "            (23324, 2019),\n",
       "            (23325, 2020),\n",
       "            (23326, 2019),\n",
       "            (23327, 2019),\n",
       "            (23328, 2019),\n",
       "            (23329, 2019),\n",
       "            (23330, 2019)],\n",
       "           names=[None, 'year'], length=23331)"
      ]
     },
     "execution_count": 31,
     "metadata": {},
     "output_type": "execute_result"
    }
   ],
   "source": [
    "df2.index"
   ]
  },
  {
   "cell_type": "code",
   "execution_count": 32,
   "metadata": {},
   "outputs": [
    {
     "data": {
      "text/plain": [
       "0        46660.55\n",
       "1             NaN\n",
       "2             NaN\n",
       "3             NaN\n",
       "4        55920.69\n",
       "           ...   \n",
       "23326         NaN\n",
       "23327         NaN\n",
       "23328         NaN\n",
       "23329         NaN\n",
       "23330         NaN\n",
       "Name: 2019, Length: 23331, dtype: object"
      ]
     },
     "execution_count": 32,
     "metadata": {},
     "output_type": "execute_result"
    }
   ],
   "source": [
    "year_data['2019']"
   ]
  },
  {
   "cell_type": "code",
   "execution_count": 42,
   "metadata": {},
   "outputs": [],
   "source": [
    "df2.reset_index(inplace= True)"
   ]
  },
  {
   "cell_type": "code",
   "execution_count": 79,
   "metadata": {},
   "outputs": [],
   "source": [
    "df2['sales_19'] = year_data['2019'] \n",
    "df2['sales_2020'] = year_data['2020']  "
   ]
  },
  {
   "cell_type": "code",
   "execution_count": 80,
   "metadata": {},
   "outputs": [
    {
     "data": {
      "text/html": [
       "<div>\n",
       "<style scoped>\n",
       "    .dataframe tbody tr th:only-of-type {\n",
       "        vertical-align: middle;\n",
       "    }\n",
       "\n",
       "    .dataframe tbody tr th {\n",
       "        vertical-align: top;\n",
       "    }\n",
       "\n",
       "    .dataframe thead th {\n",
       "        text-align: right;\n",
       "    }\n",
       "</style>\n",
       "<table border=\"1\" class=\"dataframe\">\n",
       "  <thead>\n",
       "    <tr style=\"text-align: right;\">\n",
       "      <th></th>\n",
       "      <th>Costume</th>\n",
       "      <th>Country</th>\n",
       "      <th>price</th>\n",
       "      <th>sales</th>\n",
       "      <th>curruncy</th>\n",
       "      <th>sales_19</th>\n",
       "      <th>sales_2020</th>\n",
       "    </tr>\n",
       "  </thead>\n",
       "  <tbody>\n",
       "    <tr>\n",
       "      <th>0</th>\n",
       "      <td>Cat</td>\n",
       "      <td>Australia</td>\n",
       "      <td>Full Price</td>\n",
       "      <td>A$ 46660.55</td>\n",
       "      <td>A$</td>\n",
       "      <td>46660.55</td>\n",
       "      <td>NaN</td>\n",
       "    </tr>\n",
       "    <tr>\n",
       "      <th>1</th>\n",
       "      <td>Cat</td>\n",
       "      <td>Australia</td>\n",
       "      <td>Full Price</td>\n",
       "      <td>A$ 47476.21</td>\n",
       "      <td>A$</td>\n",
       "      <td>NaN</td>\n",
       "      <td>47476.21</td>\n",
       "    </tr>\n",
       "    <tr>\n",
       "      <th>2</th>\n",
       "      <td>Cat</td>\n",
       "      <td>Australia</td>\n",
       "      <td>Full Price</td>\n",
       "      <td>NaN</td>\n",
       "      <td>NaN</td>\n",
       "      <td>NaN</td>\n",
       "      <td>NaN</td>\n",
       "    </tr>\n",
       "    <tr>\n",
       "      <th>3</th>\n",
       "      <td>Cat</td>\n",
       "      <td>Australia</td>\n",
       "      <td>Full Price</td>\n",
       "      <td>NaN</td>\n",
       "      <td>NaN</td>\n",
       "      <td>NaN</td>\n",
       "      <td>NaN</td>\n",
       "    </tr>\n",
       "    <tr>\n",
       "      <th>4</th>\n",
       "      <td>Cat</td>\n",
       "      <td>Australia</td>\n",
       "      <td>Full Price</td>\n",
       "      <td>A$ 55920.69</td>\n",
       "      <td>A$</td>\n",
       "      <td>55920.69</td>\n",
       "      <td>NaN</td>\n",
       "    </tr>\n",
       "  </tbody>\n",
       "</table>\n",
       "</div>"
      ],
      "text/plain": [
       "  Costume    Country       price        sales curruncy  sales_19 sales_2020\n",
       "0     Cat  Australia  Full Price  A$ 46660.55       A$  46660.55        NaN\n",
       "1     Cat  Australia  Full Price  A$ 47476.21       A$       NaN   47476.21\n",
       "2     Cat  Australia  Full Price          NaN      NaN       NaN        NaN\n",
       "3     Cat  Australia  Full Price          NaN      NaN       NaN        NaN\n",
       "4     Cat  Australia  Full Price  A$ 55920.69       A$  55920.69        NaN"
      ]
     },
     "execution_count": 80,
     "metadata": {},
     "output_type": "execute_result"
    }
   ],
   "source": [
    "df2.head()"
   ]
  },
  {
   "cell_type": "code",
   "execution_count": 82,
   "metadata": {},
   "outputs": [],
   "source": [
    "#df2.drop(columns=['year','sale','year','level_0'] , inplace= True)"
   ]
  },
  {
   "cell_type": "code",
   "execution_count": 83,
   "metadata": {},
   "outputs": [
    {
     "data": {
      "text/html": [
       "<div>\n",
       "<style scoped>\n",
       "    .dataframe tbody tr th:only-of-type {\n",
       "        vertical-align: middle;\n",
       "    }\n",
       "\n",
       "    .dataframe tbody tr th {\n",
       "        vertical-align: top;\n",
       "    }\n",
       "\n",
       "    .dataframe thead th {\n",
       "        text-align: right;\n",
       "    }\n",
       "</style>\n",
       "<table border=\"1\" class=\"dataframe\">\n",
       "  <thead>\n",
       "    <tr style=\"text-align: right;\">\n",
       "      <th></th>\n",
       "      <th>Costume</th>\n",
       "      <th>Country</th>\n",
       "      <th>price</th>\n",
       "      <th>sales</th>\n",
       "      <th>curruncy</th>\n",
       "      <th>sales_19</th>\n",
       "      <th>sales_2020</th>\n",
       "    </tr>\n",
       "  </thead>\n",
       "  <tbody>\n",
       "    <tr>\n",
       "      <th>0</th>\n",
       "      <td>Cat</td>\n",
       "      <td>Australia</td>\n",
       "      <td>Full Price</td>\n",
       "      <td>A$ 46660.55</td>\n",
       "      <td>A$</td>\n",
       "      <td>46660.55</td>\n",
       "      <td>NaN</td>\n",
       "    </tr>\n",
       "    <tr>\n",
       "      <th>1</th>\n",
       "      <td>Cat</td>\n",
       "      <td>Australia</td>\n",
       "      <td>Full Price</td>\n",
       "      <td>A$ 47476.21</td>\n",
       "      <td>A$</td>\n",
       "      <td>NaN</td>\n",
       "      <td>47476.21</td>\n",
       "    </tr>\n",
       "    <tr>\n",
       "      <th>2</th>\n",
       "      <td>Cat</td>\n",
       "      <td>Australia</td>\n",
       "      <td>Full Price</td>\n",
       "      <td>NaN</td>\n",
       "      <td>NaN</td>\n",
       "      <td>NaN</td>\n",
       "      <td>NaN</td>\n",
       "    </tr>\n",
       "    <tr>\n",
       "      <th>3</th>\n",
       "      <td>Cat</td>\n",
       "      <td>Australia</td>\n",
       "      <td>Full Price</td>\n",
       "      <td>NaN</td>\n",
       "      <td>NaN</td>\n",
       "      <td>NaN</td>\n",
       "      <td>NaN</td>\n",
       "    </tr>\n",
       "    <tr>\n",
       "      <th>4</th>\n",
       "      <td>Cat</td>\n",
       "      <td>Australia</td>\n",
       "      <td>Full Price</td>\n",
       "      <td>A$ 55920.69</td>\n",
       "      <td>A$</td>\n",
       "      <td>55920.69</td>\n",
       "      <td>NaN</td>\n",
       "    </tr>\n",
       "  </tbody>\n",
       "</table>\n",
       "</div>"
      ],
      "text/plain": [
       "  Costume    Country       price        sales curruncy  sales_19 sales_2020\n",
       "0     Cat  Australia  Full Price  A$ 46660.55       A$  46660.55        NaN\n",
       "1     Cat  Australia  Full Price  A$ 47476.21       A$       NaN   47476.21\n",
       "2     Cat  Australia  Full Price          NaN      NaN       NaN        NaN\n",
       "3     Cat  Australia  Full Price          NaN      NaN       NaN        NaN\n",
       "4     Cat  Australia  Full Price  A$ 55920.69       A$  55920.69        NaN"
      ]
     },
     "execution_count": 83,
     "metadata": {},
     "output_type": "execute_result"
    }
   ],
   "source": [
    "df2.head()"
   ]
  },
  {
   "cell_type": "code",
   "execution_count": 84,
   "metadata": {},
   "outputs": [],
   "source": [
    "f = df2"
   ]
  },
  {
   "cell_type": "code",
   "execution_count": 85,
   "metadata": {},
   "outputs": [
    {
     "data": {
      "text/html": [
       "<div>\n",
       "<style scoped>\n",
       "    .dataframe tbody tr th:only-of-type {\n",
       "        vertical-align: middle;\n",
       "    }\n",
       "\n",
       "    .dataframe tbody tr th {\n",
       "        vertical-align: top;\n",
       "    }\n",
       "\n",
       "    .dataframe thead th {\n",
       "        text-align: right;\n",
       "    }\n",
       "</style>\n",
       "<table border=\"1\" class=\"dataframe\">\n",
       "  <thead>\n",
       "    <tr style=\"text-align: right;\">\n",
       "      <th></th>\n",
       "      <th>Costume</th>\n",
       "      <th>Country</th>\n",
       "      <th>price</th>\n",
       "      <th>sales</th>\n",
       "      <th>curruncy</th>\n",
       "      <th>sales_19</th>\n",
       "      <th>sales_2020</th>\n",
       "    </tr>\n",
       "  </thead>\n",
       "  <tbody>\n",
       "    <tr>\n",
       "      <th>0</th>\n",
       "      <td>Cat</td>\n",
       "      <td>Australia</td>\n",
       "      <td>Full Price</td>\n",
       "      <td>A$ 46660.55</td>\n",
       "      <td>A$</td>\n",
       "      <td>46660.55</td>\n",
       "      <td>NaN</td>\n",
       "    </tr>\n",
       "    <tr>\n",
       "      <th>1</th>\n",
       "      <td>Cat</td>\n",
       "      <td>Australia</td>\n",
       "      <td>Full Price</td>\n",
       "      <td>A$ 47476.21</td>\n",
       "      <td>A$</td>\n",
       "      <td>NaN</td>\n",
       "      <td>47476.21</td>\n",
       "    </tr>\n",
       "    <tr>\n",
       "      <th>2</th>\n",
       "      <td>Cat</td>\n",
       "      <td>Australia</td>\n",
       "      <td>Full Price</td>\n",
       "      <td>NaN</td>\n",
       "      <td>NaN</td>\n",
       "      <td>NaN</td>\n",
       "      <td>NaN</td>\n",
       "    </tr>\n",
       "    <tr>\n",
       "      <th>3</th>\n",
       "      <td>Cat</td>\n",
       "      <td>Australia</td>\n",
       "      <td>Full Price</td>\n",
       "      <td>NaN</td>\n",
       "      <td>NaN</td>\n",
       "      <td>NaN</td>\n",
       "      <td>NaN</td>\n",
       "    </tr>\n",
       "    <tr>\n",
       "      <th>4</th>\n",
       "      <td>Cat</td>\n",
       "      <td>Australia</td>\n",
       "      <td>Full Price</td>\n",
       "      <td>A$ 55920.69</td>\n",
       "      <td>A$</td>\n",
       "      <td>55920.69</td>\n",
       "      <td>NaN</td>\n",
       "    </tr>\n",
       "  </tbody>\n",
       "</table>\n",
       "</div>"
      ],
      "text/plain": [
       "  Costume    Country       price        sales curruncy  sales_19 sales_2020\n",
       "0     Cat  Australia  Full Price  A$ 46660.55       A$  46660.55        NaN\n",
       "1     Cat  Australia  Full Price  A$ 47476.21       A$       NaN   47476.21\n",
       "2     Cat  Australia  Full Price          NaN      NaN       NaN        NaN\n",
       "3     Cat  Australia  Full Price          NaN      NaN       NaN        NaN\n",
       "4     Cat  Australia  Full Price  A$ 55920.69       A$  55920.69        NaN"
      ]
     },
     "execution_count": 85,
     "metadata": {},
     "output_type": "execute_result"
    }
   ],
   "source": [
    "f.head()"
   ]
  },
  {
   "cell_type": "code",
   "execution_count": 62,
   "metadata": {},
   "outputs": [
    {
     "data": {
      "text/plain": [
       "array(['A$ 46660.55', 'A$ 47476.21', nan, ..., '€ 69.00', '€ 549.00',\n",
       "       '€ 597.00'], dtype=object)"
      ]
     },
     "execution_count": 62,
     "metadata": {},
     "output_type": "execute_result"
    }
   ],
   "source": [
    "df2.sales.unique()"
   ]
  },
  {
   "cell_type": "code",
   "execution_count": 104,
   "metadata": {},
   "outputs": [
    {
     "data": {
      "text/plain": [
       "0        46660.55\n",
       "1             NaN\n",
       "2             NaN\n",
       "3             NaN\n",
       "4        55920.69\n",
       "           ...   \n",
       "23326         NaN\n",
       "23327         NaN\n",
       "23328         NaN\n",
       "23329         NaN\n",
       "23330         NaN\n",
       "Name: sales_19, Length: 23331, dtype: object"
      ]
     },
     "execution_count": 104,
     "metadata": {},
     "output_type": "execute_result"
    }
   ],
   "source": [
    "f.sales_19.astype(object)"
   ]
  },
  {
   "cell_type": "code",
   "execution_count": null,
   "metadata": {},
   "outputs": [],
   "source": []
  },
  {
   "cell_type": "code",
   "execution_count": 105,
   "metadata": {},
   "outputs": [
    {
     "data": {
      "text/plain": [
       "'159313.87'"
      ]
     },
     "execution_count": 105,
     "metadata": {},
     "output_type": "execute_result"
    }
   ],
   "source": [
    "'Leu 159313.87'.split()[1]"
   ]
  },
  {
   "cell_type": "code",
   "execution_count": 121,
   "metadata": {},
   "outputs": [],
   "source": [
    "def delet_leu(x):\n",
    "    if  'leu' in x :\n",
    "        return x.split()[1]\n",
    "    elif x == ' NaN':\n",
    "        return np.nan\n",
    "    \n",
    "    "
   ]
  },
  {
   "cell_type": "code",
   "execution_count": 140,
   "metadata": {},
   "outputs": [],
   "source": [
    "def st(x):\n",
    "    if isinstance(x,str):\n",
    "        return(x.replace('Leu',''))\n",
    "    return(x)"
   ]
  },
  {
   "cell_type": "code",
   "execution_count": 146,
   "metadata": {},
   "outputs": [],
   "source": [
    "f['sales_19'] = f['sales_19'].apply(st).astype(float)\n",
    "f['sales_2020'] = f['sales_2020'].apply(st).astype(float)"
   ]
  },
  {
   "cell_type": "code",
   "execution_count": 147,
   "metadata": {},
   "outputs": [
    {
     "data": {
      "text/plain": [
       "0        46660.55\n",
       "1             NaN\n",
       "2             NaN\n",
       "3             NaN\n",
       "4        55920.69\n",
       "           ...   \n",
       "23326         NaN\n",
       "23327         NaN\n",
       "23328         NaN\n",
       "23329         NaN\n",
       "23330         NaN\n",
       "Name: sales_19, Length: 23331, dtype: float64"
      ]
     },
     "execution_count": 147,
     "metadata": {},
     "output_type": "execute_result"
    }
   ],
   "source": [
    "f['sales_19']"
   ]
  },
  {
   "cell_type": "code",
   "execution_count": 148,
   "metadata": {},
   "outputs": [
    {
     "data": {
      "text/html": [
       "<div>\n",
       "<style scoped>\n",
       "    .dataframe tbody tr th:only-of-type {\n",
       "        vertical-align: middle;\n",
       "    }\n",
       "\n",
       "    .dataframe tbody tr th {\n",
       "        vertical-align: top;\n",
       "    }\n",
       "\n",
       "    .dataframe thead th {\n",
       "        text-align: right;\n",
       "    }\n",
       "</style>\n",
       "<table border=\"1\" class=\"dataframe\">\n",
       "  <thead>\n",
       "    <tr style=\"text-align: right;\">\n",
       "      <th></th>\n",
       "      <th></th>\n",
       "      <th></th>\n",
       "      <th>sales_19</th>\n",
       "      <th>sales_2020</th>\n",
       "    </tr>\n",
       "    <tr>\n",
       "      <th>Costume</th>\n",
       "      <th>Country</th>\n",
       "      <th>price</th>\n",
       "      <th></th>\n",
       "      <th></th>\n",
       "    </tr>\n",
       "  </thead>\n",
       "  <tbody>\n",
       "    <tr>\n",
       "      <th rowspan=\"5\" valign=\"top\">Cat</th>\n",
       "      <th rowspan=\"3\" valign=\"top\">Australia</th>\n",
       "      <th>Full Price</th>\n",
       "      <td>1502733.60</td>\n",
       "      <td>1297787.03</td>\n",
       "    </tr>\n",
       "    <tr>\n",
       "      <th>Half Price</th>\n",
       "      <td>38856.00</td>\n",
       "      <td>27984.00</td>\n",
       "    </tr>\n",
       "    <tr>\n",
       "      <th>Quarter Price</th>\n",
       "      <td>10134.00</td>\n",
       "      <td>10290.00</td>\n",
       "    </tr>\n",
       "    <tr>\n",
       "      <th rowspan=\"2\" valign=\"top\">Ireland</th>\n",
       "      <th>Full Price</th>\n",
       "      <td>752510.70</td>\n",
       "      <td>729024.78</td>\n",
       "    </tr>\n",
       "    <tr>\n",
       "      <th>Half Price</th>\n",
       "      <td>15528.50</td>\n",
       "      <td>6363.50</td>\n",
       "    </tr>\n",
       "    <tr>\n",
       "      <th>...</th>\n",
       "      <th>...</th>\n",
       "      <th>...</th>\n",
       "      <td>...</td>\n",
       "      <td>...</td>\n",
       "    </tr>\n",
       "    <tr>\n",
       "      <th rowspan=\"2\" valign=\"top\">Zombie</th>\n",
       "      <th rowspan=\"2\" valign=\"top\">US</th>\n",
       "      <th>Half Price</th>\n",
       "      <td>19840.00</td>\n",
       "      <td>12208.00</td>\n",
       "    </tr>\n",
       "    <tr>\n",
       "      <th>Quarter Price</th>\n",
       "      <td>6480.00</td>\n",
       "      <td>6772.00</td>\n",
       "    </tr>\n",
       "    <tr>\n",
       "      <th rowspan=\"3\" valign=\"top\">Zumbi</th>\n",
       "      <th rowspan=\"3\" valign=\"top\">Portugal</th>\n",
       "      <th>Full Price</th>\n",
       "      <td>759458.59</td>\n",
       "      <td>701510.92</td>\n",
       "    </tr>\n",
       "    <tr>\n",
       "      <th>Half Price</th>\n",
       "      <td>15678.00</td>\n",
       "      <td>11436.00</td>\n",
       "    </tr>\n",
       "    <tr>\n",
       "      <th>Quarter Price</th>\n",
       "      <td>5415.00</td>\n",
       "      <td>5442.00</td>\n",
       "    </tr>\n",
       "  </tbody>\n",
       "</table>\n",
       "<p>231 rows × 2 columns</p>\n",
       "</div>"
      ],
      "text/plain": [
       "                                   sales_19  sales_2020\n",
       "Costume Country   price                                \n",
       "Cat     Australia Full Price     1502733.60  1297787.03\n",
       "                  Half Price       38856.00    27984.00\n",
       "                  Quarter Price    10134.00    10290.00\n",
       "        Ireland   Full Price      752510.70   729024.78\n",
       "                  Half Price       15528.50     6363.50\n",
       "...                                     ...         ...\n",
       "Zombie  US        Half Price       19840.00    12208.00\n",
       "                  Quarter Price     6480.00     6772.00\n",
       "Zumbi   Portugal  Full Price      759458.59   701510.92\n",
       "                  Half Price       15678.00    11436.00\n",
       "                  Quarter Price     5415.00     5442.00\n",
       "\n",
       "[231 rows x 2 columns]"
      ]
     },
     "execution_count": 148,
     "metadata": {},
     "output_type": "execute_result"
    }
   ],
   "source": [
    "f.groupby(['Costume','Country','price']).agg({'sales_19' : \"sum\",'sales_2020' :'sum'})"
   ]
  },
  {
   "cell_type": "code",
   "execution_count": 149,
   "metadata": {},
   "outputs": [],
   "source": [
    "final = f.groupby(['Costume','Country','price']).agg({'sales_19' : \"sum\",'sales_2020' :'sum'})"
   ]
  },
  {
   "cell_type": "code",
   "execution_count": 152,
   "metadata": {},
   "outputs": [],
   "source": [
    "final.reset_index(inplace=True)"
   ]
  },
  {
   "cell_type": "code",
   "execution_count": 153,
   "metadata": {},
   "outputs": [
    {
     "data": {
      "text/html": [
       "<div>\n",
       "<style scoped>\n",
       "    .dataframe tbody tr th:only-of-type {\n",
       "        vertical-align: middle;\n",
       "    }\n",
       "\n",
       "    .dataframe tbody tr th {\n",
       "        vertical-align: top;\n",
       "    }\n",
       "\n",
       "    .dataframe thead th {\n",
       "        text-align: right;\n",
       "    }\n",
       "</style>\n",
       "<table border=\"1\" class=\"dataframe\">\n",
       "  <thead>\n",
       "    <tr style=\"text-align: right;\">\n",
       "      <th></th>\n",
       "      <th>Costume</th>\n",
       "      <th>Country</th>\n",
       "      <th>price</th>\n",
       "      <th>sales_19</th>\n",
       "      <th>sales_2020</th>\n",
       "    </tr>\n",
       "  </thead>\n",
       "  <tbody>\n",
       "    <tr>\n",
       "      <th>0</th>\n",
       "      <td>Cat</td>\n",
       "      <td>Australia</td>\n",
       "      <td>Full Price</td>\n",
       "      <td>1502733.6</td>\n",
       "      <td>1297787.03</td>\n",
       "    </tr>\n",
       "    <tr>\n",
       "      <th>1</th>\n",
       "      <td>Cat</td>\n",
       "      <td>Australia</td>\n",
       "      <td>Half Price</td>\n",
       "      <td>38856.0</td>\n",
       "      <td>27984.00</td>\n",
       "    </tr>\n",
       "    <tr>\n",
       "      <th>2</th>\n",
       "      <td>Cat</td>\n",
       "      <td>Australia</td>\n",
       "      <td>Quarter Price</td>\n",
       "      <td>10134.0</td>\n",
       "      <td>10290.00</td>\n",
       "    </tr>\n",
       "    <tr>\n",
       "      <th>3</th>\n",
       "      <td>Cat</td>\n",
       "      <td>Ireland</td>\n",
       "      <td>Full Price</td>\n",
       "      <td>752510.7</td>\n",
       "      <td>729024.78</td>\n",
       "    </tr>\n",
       "    <tr>\n",
       "      <th>4</th>\n",
       "      <td>Cat</td>\n",
       "      <td>Ireland</td>\n",
       "      <td>Half Price</td>\n",
       "      <td>15528.5</td>\n",
       "      <td>6363.50</td>\n",
       "    </tr>\n",
       "  </tbody>\n",
       "</table>\n",
       "</div>"
      ],
      "text/plain": [
       "  Costume    Country          price   sales_19  sales_2020\n",
       "0     Cat  Australia     Full Price  1502733.6  1297787.03\n",
       "1     Cat  Australia     Half Price    38856.0    27984.00\n",
       "2     Cat  Australia  Quarter Price    10134.0    10290.00\n",
       "3     Cat    Ireland     Full Price   752510.7   729024.78\n",
       "4     Cat    Ireland     Half Price    15528.5     6363.50"
      ]
     },
     "execution_count": 153,
     "metadata": {},
     "output_type": "execute_result"
    }
   ],
   "source": [
    "final.head()"
   ]
  },
  {
   "cell_type": "code",
   "execution_count": null,
   "metadata": {},
   "outputs": [],
   "source": []
  }
 ],
 "metadata": {
  "kernelspec": {
   "display_name": "Python 3",
   "language": "python",
   "name": "python3"
  },
  "language_info": {
   "codemirror_mode": {
    "name": "ipython",
    "version": 3
   },
   "file_extension": ".py",
   "mimetype": "text/x-python",
   "name": "python",
   "nbconvert_exporter": "python",
   "pygments_lexer": "ipython3",
   "version": "3.8.7"
  },
  "orig_nbformat": 4,
  "vscode": {
   "interpreter": {
    "hash": "fc7aef2b0aa35ff195438187b9d661d089a2d74be79df9ebba2245287dbe3fa6"
   }
  }
 },
 "nbformat": 4,
 "nbformat_minor": 2
}
